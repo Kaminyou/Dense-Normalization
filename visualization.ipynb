{
 "cells": [
  {
   "cell_type": "code",
   "execution_count": null,
   "id": "cf27e54f-e79c-45ef-b262-aea8f57a771e",
   "metadata": {},
   "outputs": [],
   "source": [
    "import cv2\n",
    "import matplotlib.pyplot as plt\n",
    "import numpy as np\n",
    "import numpy.typing as npt\n",
    "\n",
    "from PIL import Image\n",
    "\n",
    "\n",
    "def read_image(image_path: str) -> npt.NDArray[np.uint]:\n",
    "    image = cv2.imread(image_path)\n",
    "    image = cv2.cvtColor(image, cv2.COLOR_BGR2RGB)\n",
    "    return image\n",
    "\n",
    "\n",
    "def show_image(image_path: str) -> None:\n",
    "    image = read_image(image_path)\n",
    "    print(f\"size={image.shape}\")\n",
    "    plt.figure(figsize=(10, 10))\n",
    "    plt.imshow(image)\n",
    "    plt.axis('off')\n",
    "    plt.show()"
   ]
  },
  {
   "cell_type": "code",
   "execution_count": null,
   "id": "9aafdadc-6dc9-4ea8-b75a-e14625f7322c",
   "metadata": {},
   "outputs": [],
   "source": [
    "image_path = './experiments/japan_CUT/test/IMG_6610/combined_dn_10.png'\n",
    "show_image(image_path)"
   ]
  },
  {
   "cell_type": "code",
   "execution_count": null,
   "id": "99d088c5-75a7-4456-b981-79ec91c14d4d",
   "metadata": {},
   "outputs": [],
   "source": []
  }
 ],
 "metadata": {
  "kernelspec": {
   "display_name": "Python 3 (ipykernel)",
   "language": "python",
   "name": "python3"
  },
  "language_info": {
   "codemirror_mode": {
    "name": "ipython",
    "version": 3
   },
   "file_extension": ".py",
   "mimetype": "text/x-python",
   "name": "python",
   "nbconvert_exporter": "python",
   "pygments_lexer": "ipython3",
   "version": "3.9.5"
  }
 },
 "nbformat": 4,
 "nbformat_minor": 5
}
